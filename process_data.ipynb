{
 "cells": [
  {
   "cell_type": "code",
   "execution_count": 1,
   "metadata": {},
   "outputs": [],
   "source": [
    "import pandas as pd\n",
    "import collections\n",
    "import re\n",
    "import matplotlib.pyplot as plt\n",
    "import numpy as np\n",
    "\n",
    "%matplotlib inline"
   ]
  },
  {
   "cell_type": "markdown",
   "metadata": {},
   "source": [
    "# Import the dataset"
   ]
  },
  {
   "cell_type": "code",
   "execution_count": 2,
   "metadata": {},
   "outputs": [],
   "source": [
    "df_original = pd.read_csv('data/reduced_data.csv')"
   ]
  },
  {
   "cell_type": "markdown",
   "metadata": {},
   "source": [
    "## Create a copy of the dataset\n",
    "This can be run anytime to \"reset\" the dataset to its initial state. This is a very quick operation comparing to re reading the whole file."
   ]
  },
  {
   "cell_type": "code",
   "execution_count": 3,
   "metadata": {},
   "outputs": [],
   "source": [
    "df = df_original.copy()"
   ]
  },
  {
   "cell_type": "markdown",
   "metadata": {},
   "source": [
    "# Pre processing"
   ]
  },
  {
   "cell_type": "markdown",
   "metadata": {},
   "source": [
    "## Within DataFrame"
   ]
  },
  {
   "cell_type": "markdown",
   "metadata": {},
   "source": [
    "### Remove rows with empty values"
   ]
  },
  {
   "cell_type": "code",
   "execution_count": 4,
   "metadata": {
    "tags": []
   },
   "outputs": [
    {
     "name": "stdout",
     "output_type": "stream",
     "text": [
      "Len before removing empty values: 2614147\n",
      "Len after removing empty values: 795133\n"
     ]
    }
   ],
   "source": [
    "print(\"Len before removing empty values:\", len(df))\n",
    "# Remove rows with empty ingredients_tags\n",
    "df = df[df['ingredients_tags'].notna()].reset_index(drop=True)\n",
    "print(\"Len after removing empty values:\", len(df))"
   ]
  },
  {
   "cell_type": "markdown",
   "metadata": {},
   "source": [
    "### Replace '-' with spaces"
   ]
  },
  {
   "cell_type": "code",
   "execution_count": 5,
   "metadata": {},
   "outputs": [],
   "source": [
    "# Replace all '-' with ' ' in ingredients_tags\n",
    "df['ingredients_tags'] = df['ingredients_tags'].str.replace('-', ' ')"
   ]
  },
  {
   "cell_type": "markdown",
   "metadata": {},
   "source": [
    "### Split the ingredients into a list object"
   ]
  },
  {
   "cell_type": "code",
   "execution_count": 6,
   "metadata": {},
   "outputs": [
    {
     "name": "stdout",
     "output_type": "stream",
     "text": [
      "Type of ingredients_tags_lists: <class 'list'>\n"
     ]
    }
   ],
   "source": [
    "# For each row, split the ingredients_tags into a list\n",
    "df['ingredients_tags_lists'] = df['ingredients_tags'].str.split(',')\n",
    "print(\"Type of ingredients_tags_lists:\", type(df['ingredients_tags_lists'][0]))"
   ]
  },
  {
   "cell_type": "markdown",
   "metadata": {},
   "source": [
    "Our new column type is a python list. We will remove the language tag for each ingredient"
   ]
  },
  {
   "cell_type": "code",
   "execution_count": 7,
   "metadata": {},
   "outputs": [],
   "source": [
    "# Remove the language tag (e.g. 'en:' from the ingredients_tags) by keeping only the part of the string after the 3rd character\n",
    "df['ingredients_tags_lists'] = df['ingredients_tags_lists'].apply(lambda x: [s[3:] for s in x])"
   ]
  },
  {
   "cell_type": "markdown",
   "metadata": {},
   "source": [
    "## Creating a list of clean ingredients\n",
    "The goal is to understand and visualize all of the ingredients. We will then see the number of duplicates and try to identifiy the processing we will need to do in order to get a clean list."
   ]
  },
  {
   "cell_type": "markdown",
   "metadata": {},
   "source": [
    "### Functions and imports"
   ]
  },
  {
   "cell_type": "code",
   "execution_count": 8,
   "metadata": {},
   "outputs": [],
   "source": [
    "import gensim \n",
    "from gensim.models import word2vec, phrases\n",
    "from gensim.parsing.preprocessing import remove_stopwords, strip_punctuation, strip_numeric,\\\n",
    "                    strip_non_alphanum, strip_multiple_whitespaces, strip_short\n",
    "import json"
   ]
  },
  {
   "cell_type": "code",
   "execution_count": 9,
   "metadata": {},
   "outputs": [],
   "source": [
    "def export_ingredients_counts(counts_ingredients, filename):\n",
    "    # Export counts_inredients to a csv file\n",
    "    with open(filename, 'w') as f:\n",
    "        for key, value in counts_ingredients.items():\n",
    "            try:\n",
    "                f.write(f\"{key},{value}\\n\")\n",
    "            except:\n",
    "                continue"
   ]
  },
  {
   "cell_type": "markdown",
   "metadata": {},
   "source": [
    "### Convert from dataframe to lists"
   ]
  },
  {
   "cell_type": "code",
   "execution_count": 10,
   "metadata": {},
   "outputs": [],
   "source": [
    "all_ingredients = [] # List of ALL ingredients (with duplicates) with no consideration of the recipes\n",
    "all_recipes_ingredients = [] # List of ALL recipes (list of ingredients for each recipe)\n",
    "\n",
    "for i in range(len(df)): # For each recipe\n",
    "    recipe = df['ingredients_tags_lists'][i] # Get the list of ingredients for the recipe\n",
    "    recipe_ingredients = [] # New list of ingredients for the recipe\n",
    "    \n",
    "    for ing in recipe: # For each ingredient in the recipe\n",
    "        ing = remove_stopwords(ing) # Remove stopwords\n",
    "        all_ingredients.append(ing) # Add the ingredient to the total list of ingredients\n",
    "        recipe_ingredients.append(ing) # Add the ingredient to the list of ingredients for the recipe\n",
    "    \n",
    "    all_recipes_ingredients.append(recipe_ingredients) # Add the list of ingredients for the recipe to the total list of recipes\n"
   ]
  },
  {
   "cell_type": "markdown",
   "metadata": {},
   "source": [
    "### Metrics and visualizations"
   ]
  },
  {
   "cell_type": "code",
   "execution_count": 11,
   "metadata": {},
   "outputs": [
    {
     "name": "stdout",
     "output_type": "stream",
     "text": [
      "Number of ingredients (with dupes): 18940526\n",
      "Number of unique ingredients: 956467\n",
      "Number of recipes: 795133\n",
      "\n",
      "Most common ingredients: [('salt', 418337), ('added sugar', 397133), ('disaccharide', 359007), ('sugar', 350447), ('water', 295594), ('oil fat', 285063), ('flavouring', 284351), ('vegetable oil fat', 264698), ('vegetable', 224766), ('dairy', 223853)]\n",
      "Least common ingredients: [('milchsäureester von mono und digycenden von speisefettsäuren', 1), ('kakaobatter', 1), ('volmlchpuver', 1), ('calciumsultat', 1), ('narumatrate', 1), ('natriumcaronate', 1), ('natriumciratrate', 1), ('viande hachee pur boeuf 5 m', 1), ('pourcentage matiere grasse inferieur 5 rapport collagene', 1), ('proteine viande inferieur 12 viande hachee boeuf', 1)]\n"
     ]
    }
   ],
   "source": [
    "# Create a dictionary of all ingredients and their counts\n",
    "counts_ingredients = collections.Counter(all_ingredients)\n",
    "\n",
    "print(\"Number of ingredients (with dupes):\", len(all_ingredients))\n",
    "print(\"Number of unique ingredients:\", len(set(all_ingredients)))\n",
    "print(\"Number of recipes:\", len(all_recipes_ingredients))\n",
    "print(\"\\nMost common ingredients:\", counts_ingredients.most_common(10))\n",
    "print(\"Least common ingredients:\", counts_ingredients.most_common()[-10:])"
   ]
  },
  {
   "cell_type": "markdown",
   "metadata": {},
   "source": [
    "####  Exporting the occurences"
   ]
  },
  {
   "cell_type": "code",
   "execution_count": 12,
   "metadata": {},
   "outputs": [],
   "source": [
    "export_ingredients_counts(counts_ingredients, 'counts/ingredients_before_filtering.csv')"
   ]
  },
  {
   "cell_type": "markdown",
   "metadata": {},
   "source": [
    "#### Visualizing all the ingredients"
   ]
  },
  {
   "cell_type": "code",
   "execution_count": 13,
   "metadata": {},
   "outputs": [],
   "source": [
    "def plot_ingredients_length_distribution(ingredients):\n",
    "    # Get the distribution of the len of each individual ingredient\n",
    "    len_ingredients = [len(ing) for ing in set(ingredients)]\n",
    "    print(\"Mean length of ingredients:\", np.mean(len_ingredients))\n",
    "    print(\"Median length of ingredients:\", np.median(len_ingredients))\n",
    "    print(\"Max length of ingredients:\", np.max(len_ingredients))\n",
    "    print(\"Min length of ingredients:\", np.min(len_ingredients))\n",
    "    \n",
    "    # Horizontal box plot of the distribution of the len of each individual ingredient\n",
    "    plt.figure(figsize=(18, 3))\n",
    "    plt.boxplot(len_ingredients, vert=False)\n",
    "    plt.title(\"Distribution of the length of each individual ingredient\")\n",
    "    plt.xlabel(\"Length of ingredient\")\n",
    "    plt.show()\n",
    "    \n",
    "def plot_recipe_number_ingredients(recipes):\n",
    "    number_of_ingredients = [len(recipe) for recipe in recipes]\n",
    "    print(\"Mean number of ingredients per recipe:\", np.mean(number_of_ingredients))\n",
    "    print(\"Median number of ingredients per recipe:\", np.median(number_of_ingredients))\n",
    "    print(\"Max number of ingredients per recipe:\", np.max(number_of_ingredients))\n",
    "    print(\"Min number of ingredients per recipe:\", np.min(number_of_ingredients))\n",
    "    \n",
    "    plt.figure(figsize=(18, 3))\n",
    "    # horizontal box plot of the distribution of the number of ingredients per recipe\n",
    "    plt.boxplot(number_of_ingredients, vert=False)\n",
    "    plt.title(\"Distribution of the number of ingredients per recipe\")\n",
    "    plt.xlabel(\"Number of ingredients\")\n",
    "    plt.show()\n",
    "    \n",
    "def plot_ingredients_occurences_distribution(occurences):\n",
    "    # Plot the distribution of the occurences of ingredients using a log scale\n",
    "    plt.figure(figsize=(18, 3))\n",
    "    plt.hist(occurences.values(), bins=100, log=True)\n",
    "    plt.title(\"Distribution of ingredient occurences\")\n",
    "    plt.xlabel(\"Number of occurences\")\n",
    "    plt.ylabel(\"Number of ingredients\")\n",
    "    plt.show()"
   ]
  },
  {
   "cell_type": "markdown",
   "metadata": {},
   "source": [
    "##### Number of characters per ingredient"
   ]
  },
  {
   "cell_type": "code",
   "execution_count": 14,
   "metadata": {},
   "outputs": [
    {
     "name": "stdout",
     "output_type": "stream",
     "text": [
      "Mean length of ingredients: 26.298956472099928\n",
      "Median length of ingredients: 21.0\n",
      "Max length of ingredients: 481\n",
      "Min length of ingredients: 0\n"
     ]
    },
    {
     "data": {
      "image/png": "[encoded data removed]",
      "text/plain": [
       "<Figure size 1800x300 with 1 Axes>"
      ]
     },
     "metadata": {},
     "output_type": "display_data"
    }
   ],
   "source": [
    "plot_ingredients_length_distribution(all_ingredients)"
   ]
  },
  {
   "cell_type": "markdown",
   "metadata": {},
   "source": [
    "##### Number of ingredients per recipe"
   ]
  },
  {
   "cell_type": "code",
   "execution_count": 15,
   "metadata": {},
   "outputs": [
    {
     "name": "stdout",
     "output_type": "stream",
     "text": [
      "Mean number of ingredients per recipe: 23.82057592880688\n",
      "Median number of ingredients per recipe: 19.0\n",
      "Max number of ingredients per recipe: 422\n",
      "Min number of ingredients per recipe: 1\n"
     ]
    },
    {
     "data": {
      "image/png": "[encoded data removed]",
      "text/plain": [
       "<Figure size 1800x300 with 1 Axes>"
      ]
     },
     "metadata": {},
     "output_type": "display_data"
    }
   ],
   "source": [
    "plot_recipe_number_ingredients(all_recipes_ingredients)"
   ]
  },
  {
   "cell_type": "markdown",
   "metadata": {},
   "source": [
    "##### Ingredient occurences"
   ]
  },
  {
   "cell_type": "code",
   "execution_count": 16,
   "metadata": {},
   "outputs": [
    {
     "data": {
      "image/png": "[encoded data removed]",
      "text/plain": [
       "<Figure size 1800x300 with 1 Axes>"
      ]
     },
     "metadata": {},
     "output_type": "display_data"
    }
   ],
   "source": [
    "plot_ingredients_occurences_distribution(counts_ingredients)"
   ]
  },
  {
   "cell_type": "markdown",
   "metadata": {},
   "source": [
    "### Filtering ingredients"
   ]
  },
  {
   "cell_type": "markdown",
   "metadata": {},
   "source": [
    "#### Conditions / restrictions"
   ]
  },
  {
   "cell_type": "code",
   "execution_count": 17,
   "metadata": {},
   "outputs": [],
   "source": [
    "clean_ingredients = []\n",
    "\n",
    "# Ingredients that contain the following words will be removed (this list is not exhaustive and needs to be updated ; this is just a first pass)\n",
    "banned_ingredients = [\"disponible\" , \"conservé\", \"conserver\", \"consommé\", \"consommer\", \"minimum\"]\n",
    "\n",
    "for ing in all_ingredients: # For each ingredient\n",
    "    # Remove ingredients that are a single character\n",
    "    if len(ing) == 1:\n",
    "        continue\n",
    "    # Remove ingredients that contain numbers\n",
    "    if re.search(r'\\d', ing):\n",
    "        continue\n",
    "    # Remove ingredients that are in the banned_ingredients list\n",
    "    banned = False\n",
    "    for ban in banned_ingredients:\n",
    "        if ban in ing:\n",
    "            banned = True\n",
    "            break\n",
    "    if banned:\n",
    "        continue\n",
    "    # Remove ingredients that don't appear at least 200 times\n",
    "    if counts_ingredients[ing] < 100:\n",
    "        continue\n",
    "    clean_ingredients.append(ing)"
   ]
  },
  {
   "cell_type": "markdown",
   "metadata": {},
   "source": [
    "### CLEAN metrics and visualizations"
   ]
  },
  {
   "cell_type": "code",
   "execution_count": 18,
   "metadata": {},
   "outputs": [
    {
     "name": "stdout",
     "output_type": "stream",
     "text": [
      "Total number of clean ingredients: 14,986,764 (with duplicates) (before: 18,940,526 ingredients)\n",
      "Number of unique ingredients: 3,583 (before: 956,467 ingredients)\n"
     ]
    }
   ],
   "source": [
    "unique_clean_ingredients = set(clean_ingredients)\n",
    "print(f\"Total number of clean ingredients: {len(clean_ingredients):,} (with duplicates) (before: {len(all_ingredients):,} ingredients)\")\n",
    "print(f\"Number of unique ingredients: {len(unique_clean_ingredients):,} (before: {len(set(all_ingredients)):,} ingredients)\")"
   ]
  },
  {
   "cell_type": "markdown",
   "metadata": {},
   "source": [
    "#### Number of ingredient occurences"
   ]
  },
  {
   "cell_type": "code",
   "execution_count": 19,
   "metadata": {},
   "outputs": [],
   "source": [
    "counts_clean_ingredients = collections.Counter(clean_ingredients)\n",
    "export_ingredients_counts(counts_clean_ingredients, 'counts/ingredients_after_filtering.csv')"
   ]
  },
  {
   "cell_type": "markdown",
   "metadata": {},
   "source": [
    "#### Number of characters of each clean ingredient"
   ]
  },
  {
   "cell_type": "code",
   "execution_count": 20,
   "metadata": {},
   "outputs": [
    {
     "name": "stdout",
     "output_type": "stream",
     "text": [
      "Mean length of ingredients: 14.236673178900363\n",
      "Median length of ingredients: 13.0\n",
      "Max length of ingredients: 66\n",
      "Min length of ingredients: 0\n"
     ]
    },
    {
     "data": {
      "image/png": "[encoded data removed]",
      "text/plain": [
       "<Figure size 1800x300 with 1 Axes>"
      ]
     },
     "metadata": {},
     "output_type": "display_data"
    }
   ],
   "source": [
    "plot_ingredients_length_distribution(set(clean_ingredients))"
   ]
  },
  {
   "cell_type": "markdown",
   "metadata": {},
   "source": [
    "### Translating ingredients"
   ]
  },
  {
   "cell_type": "markdown",
   "metadata": {},
   "source": [
    "#### To rerun if want to recompute"
   ]
  },
  {
   "cell_type": "code",
   "execution_count": 21,
   "metadata": {},
   "outputs": [],
   "source": [
    "# # The goal is to translate to french the ingredients that are not in french\n",
    "# from deep_translator import GoogleTranslator\n",
    "\n",
    "# unique_clean_ingredients = list(unique_clean_ingredients)\n",
    "# translator = GoogleTranslator(source='auto', target='fr')\n",
    "# mapping = {}\n",
    "\n",
    "# for i in range(len(unique_clean_ingredients)):\n",
    "#     original = unique_clean_ingredients[i]\n",
    "#     translated = translator.translate(original)\n",
    "#     print(f\"({i} / {len(unique_clean_ingredients)}) {original} -> {translated}\")\n",
    "#     mapping[original] = translated.lower()"
   ]
  },
  {
   "cell_type": "markdown",
   "metadata": {},
   "source": [
    "##### Save ingredient translations "
   ]
  },
  {
   "cell_type": "code",
   "execution_count": 22,
   "metadata": {},
   "outputs": [],
   "source": [
    "# # Save mapping to a json file\n",
    "# with open('translations/mapping.json', 'w') as f:\n",
    "#     json.dump(mapping, f, indent=4)"
   ]
  },
  {
   "cell_type": "markdown",
   "metadata": {},
   "source": [
    "#### Loading from file"
   ]
  },
  {
   "cell_type": "code",
   "execution_count": 23,
   "metadata": {},
   "outputs": [],
   "source": [
    "# Load mapping from json file\n",
    "with open('translations/mapping.json', 'r') as f:\n",
    "    mapping = json.load(f)"
   ]
  },
  {
   "cell_type": "markdown",
   "metadata": {},
   "source": [
    "#### Converting non FR ingredients to FR using the mapping"
   ]
  },
  {
   "cell_type": "code",
   "execution_count": 24,
   "metadata": {},
   "outputs": [
    {
     "name": "stdout",
     "output_type": "stream",
     "text": [
      "Number of unique ingredients before translation: 3583\n",
      "Number of unique ingredients after translation: 3273\n",
      "Number of translated ingredients that have been matched to an existing french ingredient: 310\n"
     ]
    }
   ],
   "source": [
    "# Translate the ingredients\n",
    "unique_clean_ingredients_fr = set([mapping[ing] if ing in mapping else ing for ing in unique_clean_ingredients])\n",
    "print(\"Number of unique ingredients before translation:\", len(unique_clean_ingredients))\n",
    "print(\"Number of unique ingredients after translation:\", len(unique_clean_ingredients_fr))\n",
    "print(\"Number of translated ingredients that have been matched to an existing french ingredient:\", len(unique_clean_ingredients) - len(unique_clean_ingredients_fr))"
   ]
  },
  {
   "cell_type": "markdown",
   "metadata": {},
   "source": [
    "## Filtering the recipes with clean ingredients (not translated yet)"
   ]
  },
  {
   "cell_type": "code",
   "execution_count": 25,
   "metadata": {},
   "outputs": [],
   "source": [
    "# Get the recipes where all of its ingredients are in the clean_ingredients list\n",
    "clean_recipes_with_all_valid_ingredients = []\n",
    "clean_recipes_with_all_valid_ingredients_only = []\n",
    "\n",
    "for recipe in all_recipes_ingredients:\n",
    "    valid = True\n",
    "    for ing in recipe:\n",
    "        if ing not in unique_clean_ingredients:\n",
    "            valid = False\n",
    "            break\n",
    "    if valid:\n",
    "        clean_recipes_with_all_valid_ingredients_only.append(recipe)\n",
    "        clean_recipes_with_all_valid_ingredients.append(recipe)\n",
    "    else:\n",
    "        clean_recipes_with_all_valid_ingredients.append([])"
   ]
  },
  {
   "cell_type": "code",
   "execution_count": 26,
   "metadata": {},
   "outputs": [
    {
     "name": "stdout",
     "output_type": "stream",
     "text": [
      "Initial number of recipes: 795133\n",
      "New number of recipes: 142165\n",
      "--------- Checks ---------\n",
      "Number of recipes: 795133\n",
      "Number of empty recipes: 652968\n",
      "Number of recipes with all valid ingredients: 142165\n",
      "----- End of checks -----\n"
     ]
    }
   ],
   "source": [
    "print(\"Initial number of recipes:\", len(all_recipes_ingredients))\n",
    "print(\"New number of recipes:\", len(clean_recipes_with_all_valid_ingredients_only))\n",
    "\n",
    "empty_recipes = [recipe for recipe in clean_recipes_with_all_valid_ingredients if len(recipe) == 0]\n",
    "print(f\"--------- Checks ---------\\nNumber of recipes: {len(clean_recipes_with_all_valid_ingredients)}\\nNumber of empty recipes: {len(empty_recipes)}\")\n",
    "print(f\"Number of recipes with all valid ingredients: {len(all_recipes_ingredients) - len(empty_recipes)}\\n----- End of checks -----\")"
   ]
  },
  {
   "cell_type": "markdown",
   "metadata": {},
   "source": [
    "## Renaming the ingredients"
   ]
  },
  {
   "cell_type": "code",
   "execution_count": 27,
   "metadata": {},
   "outputs": [],
   "source": [
    "for recipe in clean_recipes_with_all_valid_ingredients_only:\n",
    "    for i in range(len(recipe)):\n",
    "        recipe[i] = mapping[recipe[i]]"
   ]
  },
  {
   "cell_type": "markdown",
   "metadata": {},
   "source": [
    "### Checks"
   ]
  },
  {
   "cell_type": "code",
   "execution_count": 28,
   "metadata": {},
   "outputs": [],
   "source": [
    "# Check that the ingredients have been translated\n",
    "for recipe in clean_recipes_with_all_valid_ingredients_only:\n",
    "    for ing in recipe:\n",
    "        if ing not in unique_clean_ingredients_fr:\n",
    "            print(\"Ingredient not in the list\")\n",
    "            break"
   ]
  },
  {
   "cell_type": "markdown",
   "metadata": {},
   "source": [
    "## Setting the lists to the dataframe"
   ]
  },
  {
   "cell_type": "code",
   "execution_count": 29,
   "metadata": {},
   "outputs": [],
   "source": [
    "# columns_to_drop = [\"ingredients_tags\", \"ingredients_tags_lists\"]\n",
    "df['clean_ingredients'] = clean_recipes_with_all_valid_ingredients\n",
    "# Filter out recipes that don't have any ingredients\n",
    "df_clean = df[df['clean_ingredients'].map(len) > 0]"
   ]
  },
  {
   "cell_type": "markdown",
   "metadata": {},
   "source": [
    "## Visuals"
   ]
  },
  {
   "cell_type": "code",
   "execution_count": 31,
   "metadata": {},
   "outputs": [
    {
     "name": "stdout",
     "output_type": "stream",
     "text": [
      "Mean number of ingredients per recipe: 8.651433193824078\n",
      "Median number of ingredients per recipe: 6.0\n",
      "Max number of ingredients per recipe: 76\n",
      "Min number of ingredients per recipe: 1\n"
     ]
    },
    {
     "data": {
      "image/png": "[encoded data removed]",
      "text/plain": [
       "<Figure size 1800x300 with 1 Axes>"
      ]
     },
     "metadata": {},
     "output_type": "display_data"
    }
   ],
   "source": [
    "plot_recipe_number_ingredients(df_clean['clean_ingredients'])"
   ]
  },
  {
   "cell_type": "markdown",
   "metadata": {},
   "source": [
    "## Exporting the new clean dataframe"
   ]
  },
  {
   "cell_type": "code",
   "execution_count": 33,
   "metadata": {},
   "outputs": [],
   "source": [
    "import pickle\n",
    "df_clean.to_csv(\"data/clean_recipes.csv\", index=False)\n",
    "with open('data/clean_recipes.pkl', 'wb') as f:\n",
    "    pickle.dump(df_clean, f)"
   ]
  },
  {
   "cell_type": "code",
   "execution_count": 35,
   "metadata": {},
   "outputs": [
    {
     "data": {
      "text/plain": [
       "numpy.dtype[object_]"
      ]
     },
     "execution_count": 35,
     "metadata": {},
     "output_type": "execute_result"
    }
   ],
   "source": [
    "type(df_clean.dtypes[0])"
   ]
  }
 ],
 "metadata": {
  "kernelspec": {
   "display_name": "Python 3.10.4 ('nlp')",
   "language": "python",
   "name": "python3"
  },
  "language_info": {
   "codemirror_mode": {
    "name": "ipython",
    "version": 3
   },
   "file_extension": ".py",
   "mimetype": "text/x-python",
   "name": "python",
   "nbconvert_exporter": "python",
   "pygments_lexer": "ipython3",
   "version": "3.10.4"
  },
  "orig_nbformat": 4,
  "vscode": {
   "interpreter": {
    "hash": "d67b4991c06ff004627933ee9d9d851ea096c7974ada14bae7f558f7e858c998"
   }
  }
 },
 "nbformat": 4,
 "nbformat_minor": 2
}
